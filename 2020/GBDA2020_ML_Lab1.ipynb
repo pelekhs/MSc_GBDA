{
  "nbformat": 4,
  "nbformat_minor": 0,
  "metadata": {
    "colab": {
      "name": "GBDA2020_ML_Lab1.ipynb",
      "provenance": []
    },
    "kernelspec": {
      "name": "python3",
      "display_name": "Python 3"
    }
  },
  "cells": [
    {
      "cell_type": "markdown",
      "metadata": {
        "id": "WFr3EW0ccFj1",
        "colab_type": "text"
      },
      "source": [
        "# Geospatial big data analytics. 2020. NTUA"
      ]
    },
    {
      "cell_type": "markdown",
      "metadata": {
        "id": "W5foicZ2cQzS",
        "colab_type": "text"
      },
      "source": [
        "## Machine Learning with scikit-learn"
      ]
    },
    {
      "cell_type": "markdown",
      "metadata": {
        "id": "3GXleEu-gl1H",
        "colab_type": "text"
      },
      "source": [
        "### Binary Classification\n",
        "\n",
        "Examples with:\n",
        "\n",
        "- [Naive Bayes](https://scikit-learn.org/stable/modules/naive_bayes.html#naive-bayes)\n",
        "- [k-NN](https://scikit-learn.org/stable/modules/neighbors.html#classification)\n",
        "- [Perceptron](https://scikit-learn.org/stable/modules/generated/sklearn.linear_model.Perceptron.html#sklearn.linear_model.Perceptron)\n"
      ]
    },
    {
      "cell_type": "code",
      "metadata": {
        "id": "k4UpAiSZcDzH",
        "colab_type": "code",
        "outputId": "8ac789d5-52a9-49c2-a06a-a17442448cc9",
        "colab": {
          "base_uri": "https://localhost:8080/",
          "height": 337
        }
      },
      "source": [
        "# Let's make some fictitious data! See: https://scikit-learn.org/stable/modules/generated/sklearn.datasets.make_classification.html\n",
        "from sklearn.datasets import make_classification\n",
        "from matplotlib import pyplot as plt\n",
        "%matplotlib inline\n",
        "\n",
        "X, y = make_classification(\n",
        "    n_samples=100,\n",
        "    n_features=2,\n",
        "    n_classes=2,\n",
        "    n_redundant=0,\n",
        "    n_informative=2,\n",
        "    class_sep=1.2,\n",
        "    random_state=101\n",
        ")\n",
        "print(y, X.shape)\n",
        "plt.plot(X[y==0][:, 0], X[y==0][:, 1], 'go')\n",
        "plt.plot(X[y==1][:, 0], X[y==1][:, 1], 'ro')\n",
        "\n"
      ],
      "execution_count": 0,
      "outputs": [
        {
          "output_type": "stream",
          "text": [
            "[1 1 0 1 1 0 0 1 0 1 0 0 1 0 1 0 0 1 0 1 0 1 1 1 1 1 0 1 0 1 0 0 0 1 1 1 0\n",
            " 0 1 0 1 0 0 0 1 1 0 0 1 1 1 0 1 0 0 0 0 1 1 0 1 0 1 1 0 0 0 1 1 0 0 1 0 0\n",
            " 1 1 0 1 1 1 1 0 1 0 1 0 0 0 0 0 1 1 1 0 1 1 0 0 0 1] (100, 2)\n"
          ],
          "name": "stdout"
        },
        {
          "output_type": "execute_result",
          "data": {
            "text/plain": [
              "[<matplotlib.lines.Line2D at 0x7fa3d9449e80>]"
            ]
          },
          "metadata": {
            "tags": []
          },
          "execution_count": 22
        },
        {
          "output_type": "display_data",
          "data": {
            "image/png": "[encoded data removed]",
            "text/plain": [
              "<Figure size 432x288 with 1 Axes>"
            ]
          },
          "metadata": {
            "tags": [],
            "needs_background": "light"
          }
        }
      ]
    },
    {
      "cell_type": "code",
      "metadata": {
        "id": "HCZ-g6V5cP2D",
        "colab_type": "code",
        "colab": {}
      },
      "source": [
        "# Train-test split\n",
        "from sklearn.model_selection import train_test_split\n",
        "X_train, X_test, y_train, y_test = train_test_split(X, y, test_size=0.3, random_state=101)\n"
      ],
      "execution_count": 0,
      "outputs": []
    },
    {
      "cell_type": "code",
      "metadata": {
        "id": "1a_noBrTk13X",
        "colab_type": "code",
        "outputId": "4e7623d3-1c27-43ec-8c74-efb2b58220bb",
        "colab": {
          "base_uri": "https://localhost:8080/",
          "height": 34
        }
      },
      "source": [
        "# Naive Bayes\n",
        "from sklearn.naive_bayes import GaussianNB\n",
        "gnb = GaussianNB()\n",
        "y_pred = gnb.fit(X_train, y_train).predict(X_test)\n",
        "print(f'Number of mislabeled points out of a total {X_test.shape[0]} points: {(y_pred != y_test).sum()}')"
      ],
      "execution_count": 0,
      "outputs": [
        {
          "output_type": "stream",
          "text": [
            "Number of mislabeled points out of a total 30 points: 2\n"
          ],
          "name": "stdout"
        }
      ]
    },
    {
      "cell_type": "code",
      "metadata": {
        "id": "962ZMFB2lBzA",
        "colab_type": "code",
        "outputId": "a3eb7ffd-6883-4684-dde4-74ae4212d0d5",
        "colab": {
          "base_uri": "https://localhost:8080/",
          "height": 34
        }
      },
      "source": [
        "# k Nearest Neighbor\n",
        "from sklearn.neighbors import KNeighborsClassifier\n",
        "knn = KNeighborsClassifier(n_neighbors=3)\n",
        "knn.fit(X_train, y_train)\n",
        "y_pred = knn.predict(X_test)\n",
        "print(f'Number of mislabeled points out of a total {X_test.shape[0]} points: {(y_pred != y_test).sum()}')"
      ],
      "execution_count": 0,
      "outputs": [
        {
          "output_type": "stream",
          "text": [
            "Number of mislabeled points out of a total 30 points: 0\n"
          ],
          "name": "stdout"
        }
      ]
    },
    {
      "cell_type": "code",
      "metadata": {
        "id": "sz_1Bx9TlU8t",
        "colab_type": "code",
        "outputId": "3d0bc30f-2275-401f-b285-99aaf859d1c9",
        "colab": {
          "base_uri": "https://localhost:8080/",
          "height": 34
        }
      },
      "source": [
        "# Perceptron\n",
        "from sklearn.linear_model import Perceptron\n",
        "perc = Perceptron(random_state=101)\n",
        "perc.fit(X_train, y_train)\n",
        "y_pred = perc.predict(X_test)\n",
        "print(f'Number of mislabeled points out of a total {X_test.shape[0]} points: {(y_pred != y_test).sum()}')"
      ],
      "execution_count": 0,
      "outputs": [
        {
          "output_type": "stream",
          "text": [
            "Number of mislabeled points out of a total 30 points: 2\n"
          ],
          "name": "stdout"
        }
      ]
    },
    {
      "cell_type": "markdown",
      "metadata": {
        "id": "5hQx2Vrqli4T",
        "colab_type": "text"
      },
      "source": [
        "### Multiclass Classification\n",
        "\n",
        "Examples with:\n",
        "\n",
        "- kNN\n",
        "- [Support Vector Machine (SVM)](https://scikit-learn.org/stable/modules/svm.html#svm)\n",
        "- [Random Forest](https://scikit-learn.org/stable/modules/ensemble.html#ensemble)\n",
        "\n"
      ]
    },
    {
      "cell_type": "code",
      "metadata": {
        "id": "Grp6C6wVmK9S",
        "colab_type": "code",
        "outputId": "5d211fc5-27fa-4869-f875-d3bb346c1a57",
        "colab": {
          "base_uri": "https://localhost:8080/",
          "height": 119
        }
      },
      "source": [
        "import urllib.request\n",
        "import pandas as pd\n",
        "\n",
        "iris_data_url = 'http://archive.ics.uci.edu/ml/machine-learning-databases/iris/iris.data'\n",
        "urllib.request.urlretrieve(iris_data_url, 'iris.data')\n",
        "\n",
        "dataset = pd.read_csv('iris.data', header=None)\n",
        "dataset.columns = ['sepal_length', 'sepal_width', 'petal_length', 'petal_width', 'label']\n",
        "print(dataset.head())"
      ],
      "execution_count": 0,
      "outputs": [
        {
          "output_type": "stream",
          "text": [
            "   sepal_length  sepal_width  petal_length  petal_width        label\n",
            "0           5.1          3.5           1.4          0.2  Iris-setosa\n",
            "1           4.9          3.0           1.4          0.2  Iris-setosa\n",
            "2           4.7          3.2           1.3          0.2  Iris-setosa\n",
            "3           4.6          3.1           1.5          0.2  Iris-setosa\n",
            "4           5.0          3.6           1.4          0.2  Iris-setosa\n"
          ],
          "name": "stdout"
        }
      ]
    },
    {
      "cell_type": "code",
      "metadata": {
        "id": "h1uCyS-EmWXB",
        "colab_type": "code",
        "colab": {}
      },
      "source": [
        "# Split the data to X (values) and y (labels)\n",
        "X = dataset.iloc[:, :-1].values\n",
        "y = dataset.iloc[:, 4].values"
      ],
      "execution_count": 0,
      "outputs": []
    },
    {
      "cell_type": "code",
      "metadata": {
        "id": "Cg7brf5Yn-b6",
        "colab_type": "code",
        "colab": {}
      },
      "source": [
        "# Train-test split\n",
        "from sklearn.model_selection import train_test_split\n",
        "\n",
        "X_train, X_test, y_train, y_test = train_test_split(X, y, test_size=0.20)"
      ],
      "execution_count": 0,
      "outputs": []
    },
    {
      "cell_type": "code",
      "metadata": {
        "id": "yDSMd7ssoQNK",
        "colab_type": "code",
        "colab": {}
      },
      "source": [
        "# Feature scaling \n",
        "# ...so that all of them can be uniformly evaluated\n",
        "\n",
        "from sklearn.preprocessing import StandardScaler\n",
        "scaler = StandardScaler()\n",
        "scaler.fit(X_train)\n",
        "\n",
        "X_train = scaler.transform(X_train)\n",
        "X_test = scaler.transform(X_test)"
      ],
      "execution_count": 0,
      "outputs": []
    },
    {
      "cell_type": "code",
      "metadata": {
        "id": "byUqmB01pVzr",
        "colab_type": "code",
        "outputId": "3759b307-936c-4e4b-ffb3-6cfc6437c3a1",
        "colab": {
          "base_uri": "https://localhost:8080/",
          "height": 238
        }
      },
      "source": [
        "# kNN\n",
        "from sklearn.neighbors import KNeighborsClassifier\n",
        "classifier = KNeighborsClassifier(n_neighbors=4)\n",
        "\n",
        "# Training\n",
        "classifier.fit(X_train, y_train)\n",
        "\n",
        "# Prediction\n",
        "y_pred = classifier.predict(X_test)\n",
        "\n",
        "# Evaluation\n",
        "from sklearn.metrics import classification_report\n",
        "print(classification_report(y_test, y_pred))"
      ],
      "execution_count": 0,
      "outputs": [
        {
          "output_type": "stream",
          "text": [
            "[[10  0  0]\n",
            " [ 0  9  0]\n",
            " [ 0  1 10]]\n",
            "                 precision    recall  f1-score   support\n",
            "\n",
            "    Iris-setosa       1.00      1.00      1.00        10\n",
            "Iris-versicolor       0.90      1.00      0.95         9\n",
            " Iris-virginica       1.00      0.91      0.95        11\n",
            "\n",
            "       accuracy                           0.97        30\n",
            "      macro avg       0.97      0.97      0.97        30\n",
            "   weighted avg       0.97      0.97      0.97        30\n",
            "\n"
          ],
          "name": "stdout"
        }
      ]
    },
    {
      "cell_type": "code",
      "metadata": {
        "id": "r5VoIviEpdYI",
        "colab_type": "code",
        "colab": {}
      },
      "source": [
        "# K value vs Mean Error\n",
        "\n",
        "import numpy as np\n",
        "import matplotlib.pyplot as plt\n",
        "%matplotlib inline\n",
        "\n",
        "error = []\n",
        "\n",
        "# Calculating error for K values between 1 and 20\n",
        "for i in range(1, 40):\n",
        "    knn = KNeighborsClassifier(n_neighbors=i)\n",
        "    knn.fit(X_train, y_train)\n",
        "    pred_i = knn.predict(X_test)\n",
        "    error.append(np.mean(pred_i != y_test))"
      ],
      "execution_count": 0,
      "outputs": []
    },
    {
      "cell_type": "code",
      "metadata": {
        "id": "V5If40p1pf_Y",
        "colab_type": "code",
        "outputId": "50746e1e-b8d0-4dc5-f8d3-1501694096e6",
        "colab": {
          "base_uri": "https://localhost:8080/",
          "height": 421
        }
      },
      "source": [
        "plt.figure(figsize=(12, 6))\n",
        "plt.plot(range(1, 40), error, color='blue', marker='x',\n",
        "         markerfacecolor='green', markersize=10)\n",
        "plt.title('Error Rate K Value')\n",
        "plt.xlabel('K Value')\n",
        "plt.ylabel('Mean Error')"
      ],
      "execution_count": 0,
      "outputs": [
        {
          "output_type": "execute_result",
          "data": {
            "text/plain": [
              "Text(0, 0.5, 'Mean Error')"
            ]
          },
          "metadata": {
            "tags": []
          },
          "execution_count": 52
        },
        {
          "output_type": "display_data",
          "data": {
            "image/png": "[encoded data removed]",
            "text/plain": [
              "<Figure size 864x432 with 1 Axes>"
            ]
          },
          "metadata": {
            "tags": [],
            "needs_background": "light"
          }
        }
      ]
    },
    {
      "cell_type": "code",
      "metadata": {
        "id": "_4Fjpev-pix8",
        "colab_type": "code",
        "outputId": "6deaf21f-fe6e-4909-d6ae-5b4fcf8a607c",
        "colab": {
          "base_uri": "https://localhost:8080/",
          "height": 323
        }
      },
      "source": [
        "# SVM\n",
        "\n",
        "from sklearn.svm import SVC\n",
        "svclassifier = SVC(kernel='linear')\n",
        "# Training\n",
        "svclassifier.fit(X_train, y_train)\n",
        "# Prediction\n",
        "y_pred = svclassifier.predict(X_test)\n",
        "\n",
        "# Evaluation\n",
        "from sklearn.metrics import classification_report, confusion_matrix\n",
        "print('Classification Report\\n')\n",
        "print(classification_report(y_test,y_pred))"
      ],
      "execution_count": 0,
      "outputs": [
        {
          "output_type": "stream",
          "text": [
            "Confusion Matrix\n",
            "\n",
            "[[10  0  0]\n",
            " [ 0  8  1]\n",
            " [ 0  0 11]] \n",
            "\n",
            "Classification Report\n",
            "\n",
            "                 precision    recall  f1-score   support\n",
            "\n",
            "    Iris-setosa       1.00      1.00      1.00        10\n",
            "Iris-versicolor       1.00      0.89      0.94         9\n",
            " Iris-virginica       0.92      1.00      0.96        11\n",
            "\n",
            "       accuracy                           0.97        30\n",
            "      macro avg       0.97      0.96      0.97        30\n",
            "   weighted avg       0.97      0.97      0.97        30\n",
            "\n"
          ],
          "name": "stdout"
        }
      ]
    },
    {
      "cell_type": "code",
      "metadata": {
        "id": "8Bw0UtqCpsp6",
        "colab_type": "code",
        "outputId": "0a4e9fe5-df09-497c-c332-8cbc5ef51c6b",
        "colab": {
          "base_uri": "https://localhost:8080/",
          "height": 323
        }
      },
      "source": [
        "from sklearn.ensemble import RandomForestClassifier\n",
        "\n",
        "rf = RandomForestClassifier(max_depth=15, random_state=101)\n",
        "# Training\n",
        "rf.fit(X_train, y_train)\n",
        "# Prediction\n",
        "y_pred = rf.predict(X_test)\n",
        "# Evaluation\n",
        "from sklearn.metrics import classification_report, confusion_matrix\n",
        "print('Confusion Matrix\\n')\n",
        "print(confusion_matrix(y_test,y_pred),'\\n')\n",
        "print('Classification Report\\n')\n",
        "print(classification_report(y_test,y_pred))"
      ],
      "execution_count": 0,
      "outputs": [
        {
          "output_type": "stream",
          "text": [
            "Confusion Matrix\n",
            "\n",
            "[[10  0  0]\n",
            " [ 0  9  0]\n",
            " [ 0  0 11]] \n",
            "\n",
            "Classification Report\n",
            "\n",
            "                 precision    recall  f1-score   support\n",
            "\n",
            "    Iris-setosa       1.00      1.00      1.00        10\n",
            "Iris-versicolor       1.00      1.00      1.00         9\n",
            " Iris-virginica       1.00      1.00      1.00        11\n",
            "\n",
            "       accuracy                           1.00        30\n",
            "      macro avg       1.00      1.00      1.00        30\n",
            "   weighted avg       1.00      1.00      1.00        30\n",
            "\n"
          ],
          "name": "stdout"
        }
      ]
    }
  ]
}