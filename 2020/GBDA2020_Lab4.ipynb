{
  "nbformat": 4,
  "nbformat_minor": 0,
  "metadata": {
    "colab": {
      "name": "GBDA2020_Lab4_final.ipynb",
      "provenance": [],
      "collapsed_sections": []
    },
    "kernelspec": {
      "name": "python3",
      "display_name": "Python 3"
    },
    "widgets": {
      "application/vnd.jupyter.widget-state+json": {
        "5170f0cd722c47a398c578eab7032044": {
          "model_module": "@jupyter-widgets/controls",
          "model_name": "HBoxModel",
          "state": {
            "_view_name": "HBoxView",
            "_dom_classes": [],
            "_model_name": "HBoxModel",
            "_view_module": "@jupyter-widgets/controls",
            "_model_module_version": "1.5.0",
            "_view_count": null,
            "_view_module_version": "1.5.0",
            "box_style": "",
            "layout": "IPY_MODEL_58b2fb9474584ace834834c925a25ce2",
            "_model_module": "@jupyter-widgets/controls",
            "children": [
              "IPY_MODEL_dbacaff6760b4db2936ae5fc0ad3e1f6",
              "IPY_MODEL_e675b61b4238409fb1aedfaf2a8f0940"
            ]
          }
        },
        "58b2fb9474584ace834834c925a25ce2": {
          "model_module": "@jupyter-widgets/base",
          "model_name": "LayoutModel",
          "state": {
            "_view_name": "LayoutView",
            "grid_template_rows": null,
            "right": null,
            "justify_content": null,
            "_view_module": "@jupyter-widgets/base",
            "overflow": null,
            "_model_module_version": "1.2.0",
            "_view_count": null,
            "flex_flow": null,
            "width": null,
            "min_width": null,
            "border": null,
            "align_items": null,
            "bottom": null,
            "_model_module": "@jupyter-widgets/base",
            "top": null,
            "grid_column": null,
            "overflow_y": null,
            "overflow_x": null,
            "grid_auto_flow": null,
            "grid_area": null,
            "grid_template_columns": null,
            "flex": null,
            "_model_name": "LayoutModel",
            "justify_items": null,
            "grid_row": null,
            "max_height": null,
            "align_content": null,
            "visibility": null,
            "align_self": null,
            "height": null,
            "min_height": null,
            "padding": null,
            "grid_auto_rows": null,
            "grid_gap": null,
            "max_width": null,
            "order": null,
            "_view_module_version": "1.2.0",
            "grid_template_areas": null,
            "object_position": null,
            "object_fit": null,
            "grid_auto_columns": null,
            "margin": null,
            "display": null,
            "left": null
          }
        },
        "dbacaff6760b4db2936ae5fc0ad3e1f6": {
          "model_module": "@jupyter-widgets/controls",
          "model_name": "FloatProgressModel",
          "state": {
            "_view_name": "ProgressView",
            "style": "IPY_MODEL_20192386e36449698fb24ac8a0237b8f",
            "_dom_classes": [],
            "description": "",
            "_model_name": "FloatProgressModel",
            "bar_style": "info",
            "max": 1,
            "_view_module": "@jupyter-widgets/controls",
            "_model_module_version": "1.5.0",
            "value": 1,
            "_view_count": null,
            "_view_module_version": "1.5.0",
            "orientation": "horizontal",
            "min": 0,
            "description_tooltip": null,
            "_model_module": "@jupyter-widgets/controls",
            "layout": "IPY_MODEL_bcc035a907934e73989f5d18c4ee5ee4"
          }
        },
        "e675b61b4238409fb1aedfaf2a8f0940": {
          "model_module": "@jupyter-widgets/controls",
          "model_name": "HTMLModel",
          "state": {
            "_view_name": "HTMLView",
            "style": "IPY_MODEL_bad8b731a739450181ee0267515a1661",
            "_dom_classes": [],
            "description": "",
            "_model_name": "HTMLModel",
            "placeholder": "​",
            "_view_module": "@jupyter-widgets/controls",
            "_model_module_version": "1.5.0",
            "value": " 170500096/? [00:30&lt;00:00, 17241538.87it/s]",
            "_view_count": null,
            "_view_module_version": "1.5.0",
            "description_tooltip": null,
            "_model_module": "@jupyter-widgets/controls",
            "layout": "IPY_MODEL_fbb86e49739e4e39a0250470096d4e90"
          }
        },
        "20192386e36449698fb24ac8a0237b8f": {
          "model_module": "@jupyter-widgets/controls",
          "model_name": "ProgressStyleModel",
          "state": {
            "_view_name": "StyleView",
            "_model_name": "ProgressStyleModel",
            "description_width": "initial",
            "_view_module": "@jupyter-widgets/base",
            "_model_module_version": "1.5.0",
            "_view_count": null,
            "_view_module_version": "1.2.0",
            "bar_color": null,
            "_model_module": "@jupyter-widgets/controls"
          }
        },
        "bcc035a907934e73989f5d18c4ee5ee4": {
          "model_module": "@jupyter-widgets/base",
          "model_name": "LayoutModel",
          "state": {
            "_view_name": "LayoutView",
            "grid_template_rows": null,
            "right": null,
            "justify_content": null,
            "_view_module": "@jupyter-widgets/base",
            "overflow": null,
            "_model_module_version": "1.2.0",
            "_view_count": null,
            "flex_flow": null,
            "width": null,
            "min_width": null,
            "border": null,
            "align_items": null,
            "bottom": null,
            "_model_module": "@jupyter-widgets/base",
            "top": null,
            "grid_column": null,
            "overflow_y": null,
            "overflow_x": null,
            "grid_auto_flow": null,
            "grid_area": null,
            "grid_template_columns": null,
            "flex": null,
            "_model_name": "LayoutModel",
            "justify_items": null,
            "grid_row": null,
            "max_height": null,
            "align_content": null,
            "visibility": null,
            "align_self": null,
            "height": null,
            "min_height": null,
            "padding": null,
            "grid_auto_rows": null,
            "grid_gap": null,
            "max_width": null,
            "order": null,
            "_view_module_version": "1.2.0",
            "grid_template_areas": null,
            "object_position": null,
            "object_fit": null,
            "grid_auto_columns": null,
            "margin": null,
            "display": null,
            "left": null
          }
        },
        "bad8b731a739450181ee0267515a1661": {
          "model_module": "@jupyter-widgets/controls",
          "model_name": "DescriptionStyleModel",
          "state": {
            "_view_name": "StyleView",
            "_model_name": "DescriptionStyleModel",
            "description_width": "",
            "_view_module": "@jupyter-widgets/base",
            "_model_module_version": "1.5.0",
            "_view_count": null,
            "_view_module_version": "1.2.0",
            "_model_module": "@jupyter-widgets/controls"
          }
        },
        "fbb86e49739e4e39a0250470096d4e90": {
          "model_module": "@jupyter-widgets/base",
          "model_name": "LayoutModel",
          "state": {
            "_view_name": "LayoutView",
            "grid_template_rows": null,
            "right": null,
            "justify_content": null,
            "_view_module": "@jupyter-widgets/base",
            "overflow": null,
            "_model_module_version": "1.2.0",
            "_view_count": null,
            "flex_flow": null,
            "width": null,
            "min_width": null,
            "border": null,
            "align_items": null,
            "bottom": null,
            "_model_module": "@jupyter-widgets/base",
            "top": null,
            "grid_column": null,
            "overflow_y": null,
            "overflow_x": null,
            "grid_auto_flow": null,
            "grid_area": null,
            "grid_template_columns": null,
            "flex": null,
            "_model_name": "LayoutModel",
            "justify_items": null,
            "grid_row": null,
            "max_height": null,
            "align_content": null,
            "visibility": null,
            "align_self": null,
            "height": null,
            "min_height": null,
            "padding": null,
            "grid_auto_rows": null,
            "grid_gap": null,
            "max_width": null,
            "order": null,
            "_view_module_version": "1.2.0",
            "grid_template_areas": null,
            "object_position": null,
            "object_fit": null,
            "grid_auto_columns": null,
            "margin": null,
            "display": null,
            "left": null
          }
        }
      }
    }
  },
  "cells": [
    {
      "cell_type": "markdown",
      "metadata": {
        "id": "fd2kV3XsGYOl",
        "colab_type": "text"
      },
      "source": [
        "# Contents\n",
        "\n",
        "- Regularization in CNN architectures\n",
        "- Save and Load models\n",
        "- Transfer Learning"
      ]
    },
    {
      "cell_type": "code",
      "metadata": {
        "id": "SqDmBAjtGVP2",
        "colab_type": "code",
        "outputId": "2b434800-632f-44a5-ebf2-0ccb0daf4b2d",
        "colab": {
          "base_uri": "https://localhost:8080/",
          "height": 102,
          "referenced_widgets": [
            "5170f0cd722c47a398c578eab7032044",
            "58b2fb9474584ace834834c925a25ce2",
            "dbacaff6760b4db2936ae5fc0ad3e1f6",
            "e675b61b4238409fb1aedfaf2a8f0940",
            "20192386e36449698fb24ac8a0237b8f",
            "bcc035a907934e73989f5d18c4ee5ee4",
            "bad8b731a739450181ee0267515a1661",
            "fbb86e49739e4e39a0250470096d4e90"
          ]
        }
      },
      "source": [
        "# From https://pytorch.org/tutorials/beginner/blitz/cifar10_tutorial.html#sphx-glr-beginner-blitz-cifar10-tutorial-py\n",
        "import torch\n",
        "import torchvision\n",
        "import torchvision.transforms as transforms\n",
        "\n",
        "transform = transforms.Compose(\n",
        "    [transforms.ToTensor(),\n",
        "     transforms.Normalize((0.5, 0.5, 0.5), (0.5, 0.5, 0.5))])\n",
        "\n",
        "trainset = torchvision.datasets.CIFAR10(root='./data', train=True,\n",
        "                                        download=True, transform=transform)\n",
        "trainloader = torch.utils.data.DataLoader(trainset, batch_size=4,\n",
        "                                          shuffle=True, num_workers=2)\n",
        "\n",
        "testset = torchvision.datasets.CIFAR10(root='./data', train=False,\n",
        "                                       download=True, transform=transform)\n",
        "testloader = torch.utils.data.DataLoader(testset, batch_size=4,\n",
        "                                         shuffle=False, num_workers=2)\n",
        "\n",
        "classes = ('plane', 'car', 'bird', 'cat',\n",
        "           'deer', 'dog', 'frog', 'horse', 'ship', 'truck')"
      ],
      "execution_count": 0,
      "outputs": [
        {
          "output_type": "stream",
          "text": [
            "Downloading https://www.cs.toronto.edu/~kriz/cifar-10-python.tar.gz to ./data/cifar-10-python.tar.gz\n"
          ],
          "name": "stdout"
        },
        {
          "output_type": "display_data",
          "data": {
            "application/vnd.jupyter.widget-view+json": {
              "model_id": "5170f0cd722c47a398c578eab7032044",
              "version_minor": 0,
              "version_major": 2
            },
            "text/plain": [
              "HBox(children=(FloatProgress(value=1.0, bar_style='info', max=1.0), HTML(value='')))"
            ]
          },
          "metadata": {
            "tags": []
          }
        },
        {
          "output_type": "stream",
          "text": [
            "Extracting ./data/cifar-10-python.tar.gz to ./data\n",
            "Files already downloaded and verified\n"
          ],
          "name": "stdout"
        }
      ]
    },
    {
      "cell_type": "code",
      "metadata": {
        "id": "CMycwcynIt8R",
        "colab_type": "code",
        "outputId": "b395fe46-5999-437b-fc0c-a31b3588da57",
        "colab": {
          "base_uri": "https://localhost:8080/",
          "height": 173
        }
      },
      "source": [
        "# From https://pytorch.org/tutorials/beginner/blitz/cifar10_tutorial.html#sphx-glr-beginner-blitz-cifar10-tutorial-py\n",
        "import matplotlib.pyplot as plt\n",
        "import numpy as np\n",
        "%matplotlib inline\n",
        "\n",
        "# functions to show an image\n",
        "\n",
        "\n",
        "def imshow(img):\n",
        "    img = img / 2 + 0.5     # unnormalize\n",
        "    npimg = img.numpy()\n",
        "    plt.imshow(np.transpose(npimg, (1, 2, 0)))\n",
        "    plt.show()\n",
        "\n",
        "\n",
        "# get some random training images\n",
        "dataiter = iter(trainloader)\n",
        "images, labels = dataiter.next()\n",
        "print(images.size())\n",
        "\n",
        "# show images\n",
        "imshow(torchvision.utils.make_grid(images))\n",
        "# print labels\n",
        "print(' '.join('%5s' % classes[labels[j]] for j in range(4)))"
      ],
      "execution_count": 0,
      "outputs": [
        {
          "output_type": "stream",
          "text": [
            "torch.Size([4, 3, 32, 32])\n"
          ],
          "name": "stdout"
        },
        {
          "output_type": "display_data",
          "data": {
            "image/png": "[encoded data removed]",
            "text/plain": [
              "<Figure size 432x288 with 1 Axes>"
            ]
          },
          "metadata": {
            "tags": [],
            "needs_background": "light"
          }
        },
        {
          "output_type": "stream",
          "text": [
            "  dog  bird   car  deer\n"
          ],
          "name": "stdout"
        }
      ]
    },
    {
      "cell_type": "code",
      "metadata": {
        "id": "D9WYxVMKJIWO",
        "colab_type": "code",
        "outputId": "a5cca2d0-d600-41c2-bddd-426b01bfb61e",
        "colab": {
          "base_uri": "https://localhost:8080/",
          "height": 781
        }
      },
      "source": [
        "import torch.nn as nn\n",
        "import torch.nn.functional as F\n",
        "from torchsummary import summary\n",
        "\n",
        "\n",
        "class Net(nn.Module):\n",
        "    def __init__(self):\n",
        "        super(Net, self).__init__()\n",
        "        self.conv_features = nn.Sequential(\n",
        "          nn.Conv2d(3, 6, 5),\n",
        "          nn.ReLU(inplace=True),\n",
        "          nn.MaxPool2d(2, 2),\n",
        "          nn.Conv2d(6, 16, 5),\n",
        "          nn.ReLU(inplace=True),\n",
        "          nn.MaxPool2d(2, 2)\n",
        "        )\n",
        "        \n",
        "        self.classifier = nn.Sequential(\n",
        "          nn.Flatten(),\n",
        "          nn.Linear(16 * 5 * 5, 120),\n",
        "          nn.ReLU(inplace=True),\n",
        "          nn.Linear(120, 84),\n",
        "          nn.ReLU(inplace=True),\n",
        "          nn.Linear(84, 10)\n",
        "        )\n",
        "\n",
        "    def forward(self, x):\n",
        "        x = self.conv_features(x)\n",
        "        x = self.classifier(x)\n",
        "        return x\n",
        "\n",
        "\n",
        "net = Net()\n",
        "print(net)\n",
        "summary(net, (3, 32, 32))"
      ],
      "execution_count": 0,
      "outputs": [
        {
          "output_type": "stream",
          "text": [
            "Net(\n",
            "  (conv_features): Sequential(\n",
            "    (0): Conv2d(3, 6, kernel_size=(5, 5), stride=(1, 1))\n",
            "    (1): ReLU(inplace=True)\n",
            "    (2): MaxPool2d(kernel_size=2, stride=2, padding=0, dilation=1, ceil_mode=False)\n",
            "    (3): Conv2d(6, 16, kernel_size=(5, 5), stride=(1, 1))\n",
            "    (4): ReLU(inplace=True)\n",
            "    (5): MaxPool2d(kernel_size=2, stride=2, padding=0, dilation=1, ceil_mode=False)\n",
            "  )\n",
            "  (classifier): Sequential(\n",
            "    (0): Flatten()\n",
            "    (1): Linear(in_features=400, out_features=120, bias=True)\n",
            "    (2): ReLU(inplace=True)\n",
            "    (3): Linear(in_features=120, out_features=84, bias=True)\n",
            "    (4): ReLU(inplace=True)\n",
            "    (5): Linear(in_features=84, out_features=10, bias=True)\n",
            "  )\n",
            ")\n",
            "----------------------------------------------------------------\n",
            "        Layer (type)               Output Shape         Param #\n",
            "================================================================\n",
            "            Conv2d-1            [-1, 6, 28, 28]             456\n",
            "              ReLU-2            [-1, 6, 28, 28]               0\n",
            "         MaxPool2d-3            [-1, 6, 14, 14]               0\n",
            "            Conv2d-4           [-1, 16, 10, 10]           2,416\n",
            "              ReLU-5           [-1, 16, 10, 10]               0\n",
            "         MaxPool2d-6             [-1, 16, 5, 5]               0\n",
            "           Flatten-7                  [-1, 400]               0\n",
            "            Linear-8                  [-1, 120]          48,120\n",
            "              ReLU-9                  [-1, 120]               0\n",
            "           Linear-10                   [-1, 84]          10,164\n",
            "             ReLU-11                   [-1, 84]               0\n",
            "           Linear-12                   [-1, 10]             850\n",
            "================================================================\n",
            "Total params: 62,006\n",
            "Trainable params: 62,006\n",
            "Non-trainable params: 0\n",
            "----------------------------------------------------------------\n",
            "Input size (MB): 0.01\n",
            "Forward/backward pass size (MB): 0.11\n",
            "Params size (MB): 0.24\n",
            "Estimated Total Size (MB): 0.36\n",
            "----------------------------------------------------------------\n"
          ],
          "name": "stdout"
        }
      ]
    },
    {
      "cell_type": "code",
      "metadata": {
        "id": "7mLm-cbFJVN8",
        "colab_type": "code",
        "outputId": "27444f79-032e-44b6-be7f-eb673ba94dc4",
        "colab": {
          "base_uri": "https://localhost:8080/",
          "height": 248
        }
      },
      "source": [
        "# From https://pytorch.org/tutorials/beginner/blitz/cifar10_tutorial.html#sphx-glr-beginner-blitz-cifar10-tutorial-py\n",
        "import torch.optim as optim\n",
        "\n",
        "criterion = nn.CrossEntropyLoss()\n",
        "optimizer = optim.SGD(net.parameters(), lr=0.001, momentum=0.9)\n",
        "\n",
        "for epoch in range(2):  # loop over the dataset multiple times\n",
        "\n",
        "    running_loss = 0.0\n",
        "    for i, data in enumerate(trainloader, 0):\n",
        "        # get the inputs; data is a list of [inputs, labels]\n",
        "        inputs, labels = data\n",
        "\n",
        "        # zero the parameter gradients\n",
        "        optimizer.zero_grad()\n",
        "\n",
        "        # forward + backward + optimize\n",
        "        outputs = net(inputs)\n",
        "        loss = criterion(outputs, labels)\n",
        "        loss.backward()\n",
        "        optimizer.step()\n",
        "\n",
        "        # print statistics\n",
        "        running_loss += loss.item()\n",
        "        if i % 2000 == 1999:    # print every 2000 mini-batches\n",
        "            print('[%d, %5d] loss: %.3f' %\n",
        "                  (epoch + 1, i + 1, running_loss / 2000))\n",
        "            running_loss = 0.0\n",
        "\n",
        "print('Finished Training')"
      ],
      "execution_count": 0,
      "outputs": [
        {
          "output_type": "stream",
          "text": [
            "[1,  2000] loss: 2.213\n",
            "[1,  4000] loss: 1.898\n",
            "[1,  6000] loss: 1.713\n",
            "[1,  8000] loss: 1.611\n",
            "[1, 10000] loss: 1.553\n",
            "[1, 12000] loss: 1.515\n",
            "[2,  2000] loss: 1.417\n",
            "[2,  4000] loss: 1.406\n",
            "[2,  6000] loss: 1.386\n",
            "[2,  8000] loss: 1.356\n",
            "[2, 10000] loss: 1.345\n",
            "[2, 12000] loss: 1.317\n",
            "Finished Training\n"
          ],
          "name": "stdout"
        }
      ]
    },
    {
      "cell_type": "markdown",
      "metadata": {
        "id": "gQBlcJ3aJuaP",
        "colab_type": "text"
      },
      "source": [
        "# Regularization\n",
        "\n",
        "See:\n",
        "\n",
        "\n",
        "*   https://pytorch.org/docs/stable/nn.html#dropout-layers\n",
        "*   https://pytorch.org/docs/stable/nn.html#normalization-layers\n",
        "*   https://pytorch.org/docs/stable/torchvision/transforms.html#\n",
        "\n",
        "\n",
        "\n",
        "\n"
      ]
    },
    {
      "cell_type": "code",
      "metadata": {
        "id": "Kluw_EPBJwTg",
        "colab_type": "code",
        "outputId": "370aac58-1122-47b1-f74c-120951857520",
        "colab": {
          "base_uri": "https://localhost:8080/",
          "height": 390
        }
      },
      "source": [
        "# Dropout, Dropout2D, BatchNorm\n",
        "\n",
        "class Net2(nn.Module):\n",
        "    def __init__(self):\n",
        "        super(Net2, self).__init__()\n",
        "        self.conv_features = nn.Sequential(\n",
        "          nn.Conv2d(3, 6, 5),\n",
        "          nn.ReLU(inplace=True),\n",
        "          nn.MaxPool2d(2, 2),\n",
        "          nn.BatchNorm2d(num_features=6),\n",
        "          nn.Dropout2d(p=0.5),\n",
        "          nn.Conv2d(6, 16, 5),\n",
        "          nn.ReLU(inplace=True),\n",
        "          nn.MaxPool2d(2, 2),\n",
        "        )\n",
        "        \n",
        "        self.classifier = nn.Sequential(\n",
        "          nn.Flatten(),\n",
        "          nn.Linear(16 * 5 * 5, 120),\n",
        "          nn.Dropout(p=0.5),\n",
        "          nn.ReLU(inplace=True),\n",
        "          nn.Linear(120, 84),\n",
        "          nn.ReLU(inplace=True),\n",
        "          nn.Linear(84, 10)\n",
        "        )\n",
        "\n",
        "    def forward(self, x):\n",
        "        x = self.conv_features(x)\n",
        "        x = self.classifier(x)\n",
        "        return x\n",
        "\n",
        "net2 = Net2()\n",
        "print(net2)"
      ],
      "execution_count": 0,
      "outputs": [
        {
          "output_type": "stream",
          "text": [
            "Net2(\n",
            "  (conv_features): Sequential(\n",
            "    (0): Conv2d(3, 6, kernel_size=(5, 5), stride=(1, 1))\n",
            "    (1): ReLU(inplace=True)\n",
            "    (2): MaxPool2d(kernel_size=2, stride=2, padding=0, dilation=1, ceil_mode=False)\n",
            "    (3): BatchNorm2d(6, eps=1e-05, momentum=0.1, affine=True, track_running_stats=True)\n",
            "    (4): Dropout2d(p=0.5, inplace=False)\n",
            "    (5): Conv2d(6, 16, kernel_size=(5, 5), stride=(1, 1))\n",
            "    (6): ReLU(inplace=True)\n",
            "    (7): MaxPool2d(kernel_size=2, stride=2, padding=0, dilation=1, ceil_mode=False)\n",
            "  )\n",
            "  (classifier): Sequential(\n",
            "    (0): Flatten()\n",
            "    (1): Linear(in_features=400, out_features=120, bias=True)\n",
            "    (2): Dropout(p=0.5, inplace=False)\n",
            "    (3): ReLU(inplace=True)\n",
            "    (4): Linear(in_features=120, out_features=84, bias=True)\n",
            "    (5): ReLU(inplace=True)\n",
            "    (6): Linear(in_features=84, out_features=10, bias=True)\n",
            "  )\n",
            ")\n"
          ],
          "name": "stdout"
        }
      ]
    },
    {
      "cell_type": "code",
      "metadata": {
        "id": "Mlk57TPFJ2qd",
        "colab_type": "code",
        "outputId": "5656a2af-dc8f-445c-f2f2-43d67c16d29f",
        "colab": {
          "base_uri": "https://localhost:8080/",
          "height": 408
        }
      },
      "source": [
        "# L1/L2 regularization\n",
        "class Net3(nn.Module):\n",
        "    def __init__(self):\n",
        "        super(Net3, self).__init__()\n",
        "        self.conv_features = nn.Sequential(\n",
        "          nn.Conv2d(3, 6, 5),\n",
        "          nn.ReLU(inplace=True),\n",
        "          nn.MaxPool2d(2, 2),\n",
        "          nn.Conv2d(6, 16, 5),\n",
        "          nn.ReLU(inplace=True),\n",
        "          nn.MaxPool2d(2, 2),\n",
        "        )\n",
        "        \n",
        "        self.classifier = nn.Sequential(\n",
        "          nn.Flatten(),\n",
        "          nn.Linear(16 * 5 * 5, 120),\n",
        "          nn.ReLU(inplace=True),\n",
        "          nn.Linear(120, 84),\n",
        "          nn.ReLU(inplace=True),\n",
        "          nn.Linear(84, 10)\n",
        "        )\n",
        "\n",
        "        self.l2_reg_list = [\n",
        "          self.conv_features[0],\n",
        "          self.classifier[1]                     \n",
        "        ]\n",
        "\n",
        "    def forward(self, x):\n",
        "        x = self.conv_features(x)\n",
        "        x = self.classifier(x)\n",
        "        return x\n",
        "    \n",
        "    def l2_reg_loss(self):\n",
        "      reg_loss = 0\n",
        "      for layer in self.l2_reg_list:\n",
        "        reg_loss += (layer.weight ** 2).sum().sqrt()\n",
        "      return reg_loss\n",
        "\n",
        "net3 = Net3()\n",
        "print(net3)\n",
        "print('l2_reg_loss:', net3.l2_reg_loss())\n",
        "\n",
        "# Demo-data\n",
        "x = torch.rand((4, 3, 32, 32))\n",
        "y = torch.randint(0, 10, (4, ), dtype=torch.long)\n",
        "print(y)\n",
        "\n",
        "criterion = nn.CrossEntropyLoss()\n",
        "\n",
        "loss = criterion(net3(x), y)\n",
        "print('Cls loss:', loss)\n",
        "\n",
        "langrangian_value = 0.1\n",
        "loss_cls = criterion(net3(x), y)\n",
        "\n",
        "loss_reg = net3.l2_reg_loss()\n",
        "loss = loss_cls + langrangian_value * loss_reg\n",
        "print('Total loss:', loss)"
      ],
      "execution_count": 0,
      "outputs": [
        {
          "output_type": "stream",
          "text": [
            "Net3(\n",
            "  (conv_features): Sequential(\n",
            "    (0): Conv2d(3, 6, kernel_size=(5, 5), stride=(1, 1))\n",
            "    (1): ReLU(inplace=True)\n",
            "    (2): MaxPool2d(kernel_size=2, stride=2, padding=0, dilation=1, ceil_mode=False)\n",
            "    (3): Conv2d(6, 16, kernel_size=(5, 5), stride=(1, 1))\n",
            "    (4): ReLU(inplace=True)\n",
            "    (5): MaxPool2d(kernel_size=2, stride=2, padding=0, dilation=1, ceil_mode=False)\n",
            "  )\n",
            "  (classifier): Sequential(\n",
            "    (0): Flatten()\n",
            "    (1): Linear(in_features=400, out_features=120, bias=True)\n",
            "    (2): ReLU(inplace=True)\n",
            "    (3): Linear(in_features=120, out_features=84, bias=True)\n",
            "    (4): ReLU(inplace=True)\n",
            "    (5): Linear(in_features=84, out_features=10, bias=True)\n",
            "  )\n",
            ")\n",
            "l2_reg_loss: tensor(7.7394, grad_fn=<AddBackward0>)\n",
            "tensor([9, 8, 0, 3])\n",
            "Cls loss: tensor(2.3185, grad_fn=<NllLossBackward>)\n",
            "Total loss: tensor(3.0924, grad_fn=<AddBackward0>)\n"
          ],
          "name": "stdout"
        }
      ]
    },
    {
      "cell_type": "code",
      "metadata": {
        "id": "i8qJBu-BJ72g",
        "colab_type": "code",
        "outputId": "cbb5f001-db29-493e-ea22-c6824e2dca01",
        "colab": {
          "base_uri": "https://localhost:8080/",
          "height": 191
        }
      },
      "source": [
        "# Adversarial Training\n",
        "import matplotlib.pyplot as plt\n",
        "import numpy as np\n",
        "%matplotlib inline\n",
        "\n",
        "class AdversarialAugmentation(object):\n",
        "  def __init__(self, eps=0.001):\n",
        "    super().__init__()\n",
        "    self.eps = eps\n",
        "\n",
        "  def __call__(self, x):\n",
        "    x += self.eps * torch.randn_like(x)\n",
        "    return x\n",
        "\n",
        "transform = transforms.Compose([\n",
        "  transforms.ToTensor(),\n",
        "  AdversarialAugmentation(0.001)        \n",
        "])\n",
        "\n",
        "\n",
        "sampleset = torchvision.datasets.CIFAR10(root='./data', train=False,\n",
        "                                         download=True, transform=transform)\n",
        "sampleloader = torch.utils.data.DataLoader(sampleset, batch_size=4,\n",
        "                                           shuffle=False, num_workers=2)\n",
        "\n",
        "# functions to show an image\n",
        "def imshow(img):\n",
        "    img = img / 2 + 0.5     # unnormalize\n",
        "    npimg = img.numpy()\n",
        "    plt.imshow(np.transpose(npimg, (1, 2, 0)))\n",
        "    plt.show()\n",
        "\n",
        "# get some random training images\n",
        "dataiter = iter(sampleloader)\n",
        "images, labels = dataiter.next()\n",
        "print(images.max())\n",
        "\n",
        "# show images\n",
        "imshow(torchvision.utils.make_grid(images))\n",
        "# print labels\n",
        "print(' '.join('%5s' % classes[labels[j]] for j in range(4)))"
      ],
      "execution_count": 0,
      "outputs": [
        {
          "output_type": "stream",
          "text": [
            "Files already downloaded and verified\n",
            "tensor(1.0000)\n"
          ],
          "name": "stdout"
        },
        {
          "output_type": "display_data",
          "data": {
            "image/png": "[encoded data removed]",
            "text/plain": [
              "<Figure size 432x288 with 1 Axes>"
            ]
          },
          "metadata": {
            "tags": [],
            "needs_background": "light"
          }
        },
        {
          "output_type": "stream",
          "text": [
            "  cat  ship  ship plane\n"
          ],
          "name": "stdout"
        }
      ]
    },
    {
      "cell_type": "markdown",
      "metadata": {
        "id": "aR7bAn35VYj4",
        "colab_type": "text"
      },
      "source": [
        "# Model Save/Load"
      ]
    },
    {
      "cell_type": "code",
      "metadata": {
        "id": "1ybhy9EMVbTe",
        "colab_type": "code",
        "colab": {}
      },
      "source": [
        "# Save model 1!\n",
        "PATH = './cifar10_net.pth'\n",
        "torch.save(net.state_dict(), PATH)"
      ],
      "execution_count": 0,
      "outputs": []
    },
    {
      "cell_type": "code",
      "metadata": {
        "id": "PkdJOr_2VuOy",
        "colab_type": "code",
        "outputId": "7df1a669-44f6-47fd-f784-e929166af4cc",
        "colab": {
          "base_uri": "https://localhost:8080/",
          "height": 52
        }
      },
      "source": [
        "# Load Model \n",
        "net1b = Net()\n",
        "print('RandomInit vs Trained:', float((net.classifier[-1].weight - net1b.classifier[-1].weight).sum()))\n",
        "net1b.load_state_dict(torch.load(PATH))\n",
        "print('Loaded vs Trained:', float((net.classifier[-1].weight - net1b.classifier[-1].weight).sum()))\n",
        "\n"
      ],
      "execution_count": 0,
      "outputs": [
        {
          "output_type": "stream",
          "text": [
            "RandomInit vs Trained: 2.2416670322418213\n",
            "Loaded vs Trained: 0.0\n"
          ],
          "name": "stdout"
        }
      ]
    },
    {
      "cell_type": "markdown",
      "metadata": {
        "id": "oDnufR1vWjHV",
        "colab_type": "text"
      },
      "source": [
        "# Transfer Learning"
      ]
    },
    {
      "cell_type": "code",
      "metadata": {
        "id": "X2rNSsTVWlx5",
        "colab_type": "code",
        "outputId": "273f2af7-a38c-472a-9c56-e98334f53753",
        "colab": {
          "base_uri": "https://localhost:8080/",
          "height": 319
        }
      },
      "source": [
        "# Define a new Net for 100 classes!\n",
        "class TLNet(nn.Module):\n",
        "    def __init__(self, base_net):\n",
        "        super().__init__()\n",
        "        self.conv_features = base_net.conv_features\n",
        "        \n",
        "        self.classifier = nn.Sequential(\n",
        "          nn.Flatten(),\n",
        "          nn.Linear(16 * 5 * 5, 120),\n",
        "          nn.ReLU(inplace=True),\n",
        "          nn.Linear(100, 84),\n",
        "        )\n",
        "\n",
        "\n",
        "    def forward(self, x):\n",
        "        x = self.conv_features(x)\n",
        "        x = self.classifier(x)\n",
        "        return x\n",
        "\n",
        "tl_net = TLNet(net)\n",
        "print(tl_net)\n",
        "print('Proof of same weights in convs:', float((net.conv_features[0].weight - tl_net.conv_features[0].weight).sum()))\n"
      ],
      "execution_count": 0,
      "outputs": [
        {
          "output_type": "stream",
          "text": [
            "TLNet(\n",
            "  (conv_features): Sequential(\n",
            "    (0): Conv2d(3, 6, kernel_size=(5, 5), stride=(1, 1))\n",
            "    (1): ReLU(inplace=True)\n",
            "    (2): MaxPool2d(kernel_size=2, stride=2, padding=0, dilation=1, ceil_mode=False)\n",
            "    (3): Conv2d(6, 16, kernel_size=(5, 5), stride=(1, 1))\n",
            "    (4): ReLU(inplace=True)\n",
            "    (5): MaxPool2d(kernel_size=2, stride=2, padding=0, dilation=1, ceil_mode=False)\n",
            "  )\n",
            "  (classifier): Sequential(\n",
            "    (0): Flatten()\n",
            "    (1): Linear(in_features=400, out_features=120, bias=True)\n",
            "    (2): ReLU(inplace=True)\n",
            "    (3): Linear(in_features=100, out_features=84, bias=True)\n",
            "  )\n",
            ")\n",
            "Proof of same weights in convs: 0.0\n"
          ],
          "name": "stdout"
        }
      ]
    },
    {
      "cell_type": "code",
      "metadata": {
        "id": "FaNN05f0XMdI",
        "colab_type": "code",
        "colab": {}
      },
      "source": [
        "# Use SGD to train specific parts of tl_net\n",
        "import torch.optim\n",
        "\n",
        "sgdA = torch.optim.SGD(tl_net.conv_features.parameters(), lr=0.1)\n",
        "sgdB = torch.optim.RMSprop(tl_net.classifier[-1].parameters(), lr=0.001)\n",
        "# Notes .zero_grad() and .step() must be called for each optimizer independently"
      ],
      "execution_count": 0,
      "outputs": []
    }
  ]
}