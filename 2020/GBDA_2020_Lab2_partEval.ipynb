{
  "nbformat": 4,
  "nbformat_minor": 0,
  "metadata": {
    "colab": {
      "name": "GBDA_2020_Lab2_partEval.ipynb",
      "provenance": [],
      "collapsed_sections": []
    },
    "kernelspec": {
      "name": "python3",
      "display_name": "Python 3"
    }
  },
  "cells": [
    {
      "cell_type": "markdown",
      "metadata": {
        "id": "peEClesgFRsS",
        "colab_type": "text"
      },
      "source": [
        "# Binary\n"
      ]
    },
    {
      "cell_type": "code",
      "metadata": {
        "id": "7UjhhqlNFV0b",
        "colab_type": "code",
        "outputId": "b6ed2026-a039-492c-ba88-40196b417e76",
        "colab": {
          "base_uri": "https://localhost:8080/",
          "height": 283
        }
      },
      "source": [
        "# Let's make some fictitious data! See: https://scikit-learn.org/stable/modules/generated/sklearn.datasets.make_classification.html\n",
        "from sklearn.datasets import make_classification\n",
        "from matplotlib import pyplot as plt\n",
        "%matplotlib inline\n",
        "\n",
        "X, y = make_classification(\n",
        "    n_samples=100,\n",
        "    n_features=2,\n",
        "    n_classes=2,\n",
        "    n_redundant=0,\n",
        "    n_informative=2,\n",
        "    class_sep=0.50,\n",
        "    random_state=101\n",
        ")\n",
        "\n",
        "plt.plot(X[y==0][:, 0], X[y==0][:, 1], 'go')\n",
        "plt.plot(X[y==1][:, 0], X[y==1][:, 1], 'ro')\n",
        "\n",
        "\n",
        "# Train-test split\n",
        "from sklearn.model_selection import train_test_split\n",
        "X_train, X_test, y_train, y_test = train_test_split(X, y, test_size=0.4, random_state=101)\n",
        "\n",
        "# Naive Bayes\n",
        "from sklearn.naive_bayes import GaussianNB\n",
        "gnb = GaussianNB()\n",
        "y_pred = gnb.fit(X_train, y_train).predict(X_test)\n",
        "print(f'Number of mislabeled points out of a total {X_test.shape[0]} points: {(y_pred != y_test).sum()}')"
      ],
      "execution_count": 0,
      "outputs": [
        {
          "output_type": "stream",
          "text": [
            "Number of mislabeled points out of a total 40 points: 7\n"
          ],
          "name": "stdout"
        },
        {
          "output_type": "display_data",
          "data": {
            "image/png": "[encoded data removed]",
            "text/plain": [
              "<Figure size 432x288 with 1 Axes>"
            ]
          },
          "metadata": {
            "tags": [],
            "needs_background": "light"
          }
        }
      ]
    },
    {
      "cell_type": "code",
      "metadata": {
        "id": "kcXRbamTFzd6",
        "colab_type": "code",
        "outputId": "4df16c78-884c-4ebc-8d28-13364e7983a1",
        "colab": {
          "base_uri": "https://localhost:8080/",
          "height": 182
        }
      },
      "source": [
        "from sklearn.metrics import accuracy_score, f1_score, precision_score, recall_score\n",
        "print(confusion_matrix(y_test, y_pred, labels=[1, 0]))\n",
        "tp, fn, fp, tn = confusion_matrix(y_test, y_pred, labels=[1, 0]).ravel()\n",
        "print(tp, fn, fp, tn)\n",
        "\n",
        "print(accuracy_score(y_test, y_pred))\n",
        "print(f1_score(y_test, y_pred))\n",
        "print(precision_score(y_test, y_pred))\n",
        "print(recall_score(y_test, y_pred))\n",
        "print(confusion_matrix([0, 1, 0, 1], [1, 1, 1, 0], labels=[1, 0]))"
      ],
      "execution_count": 0,
      "outputs": [
        {
          "output_type": "stream",
          "text": [
            "[[17  3]\n",
            " [ 4 16]]\n",
            "17 3 4 16\n",
            "0.825\n",
            "0.8292682926829269\n",
            "0.8095238095238095\n",
            "0.85\n",
            "[[1 1]\n",
            " [2 0]]\n"
          ],
          "name": "stdout"
        }
      ]
    },
    {
      "cell_type": "markdown",
      "metadata": {
        "id": "dYibqGCHFNPS",
        "colab_type": "text"
      },
      "source": [
        "\n",
        "\n",
        "# Multiclass\n"
      ]
    },
    {
      "cell_type": "code",
      "metadata": {
        "id": "-l3fE73UBdoI",
        "colab_type": "code",
        "outputId": "f3b70106-19d2-4728-8960-703ba051cbb8",
        "colab": {
          "base_uri": "https://localhost:8080/",
          "height": 146
        }
      },
      "source": [
        "import urllib.request\n",
        "import pandas as pd\n",
        "import numpy as np\n",
        "\n",
        "\n",
        "iris_data_url = 'http://archive.ics.uci.edu/ml/machine-learning-databases/iris/iris.data'\n",
        "urllib.request.urlretrieve(iris_data_url, 'iris.data')\n",
        "\n",
        "dataset = pd.read_csv('iris.data', header=None)\n",
        "dataset.columns = ['sepal_length', 'sepal_width', 'petal_length', 'petal_width', 'label']\n",
        "print(dataset.head())\n",
        "\n",
        "# Split the data to X (values) and y (labels)\n",
        "X = dataset.iloc[:, :-1].values\n",
        "y = dataset.iloc[:, 4].values   \n",
        "\n",
        "d = dict()\n",
        "for i, label in enumerate(np.unique(y)):\n",
        "  d[label] = i\n",
        "  y[y == label] = i\n",
        "\n",
        "y = y.astype(int)\n",
        "\n",
        "# Train-test split\n",
        "from sklearn.model_selection import train_test_split\n",
        "\n",
        "X_train, X_test, y_train, y_test = train_test_split(X, y, test_size=0.30, random_state=4)\n",
        "\n",
        "# SVM\n",
        "\n",
        "from sklearn.svm import SVC\n",
        "svclassifier = SVC(kernel='linear')\n",
        "# Training\n",
        "svclassifier.fit(X_train, y_train)\n",
        "# Prediction\n",
        "y_pred = svclassifier.predict(X_test)\n"
      ],
      "execution_count": 0,
      "outputs": [
        {
          "output_type": "stream",
          "text": [
            "   sepal_length  sepal_width  petal_length  petal_width        label\n",
            "0           5.1          3.5           1.4          0.2  Iris-setosa\n",
            "1           4.9          3.0           1.4          0.2  Iris-setosa\n",
            "2           4.7          3.2           1.3          0.2  Iris-setosa\n",
            "3           4.6          3.1           1.5          0.2  Iris-setosa\n",
            "4           5.0          3.6           1.4          0.2  Iris-setosa\n",
            "int64\n"
          ],
          "name": "stdout"
        }
      ]
    },
    {
      "cell_type": "code",
      "metadata": {
        "id": "DKc0MISsB5Rl",
        "colab_type": "code",
        "outputId": "ff7d1151-42cd-4da7-bbed-842e69744b58",
        "colab": {
          "base_uri": "https://localhost:8080/",
          "height": 127
        }
      },
      "source": [
        "# Evaluation!\n",
        "from sklearn.metrics import confusion_matrix\n",
        "cm = confusion_matrix(y_test, y_pred, labels=range(3))\n",
        "print(cm)\n",
        "\n",
        "for c in range(3):\n",
        "  tp = cm[c,c]\n",
        "  fp = cm[:,c].sum() - tp\n",
        "  fn = cm[c,:].sum() - tp\n",
        "  tn = cm.sum() - fp - fn - tp\n",
        "\n",
        "  acc = tp/(tp+fp+fn)\n",
        "  rec =  tp/(tp+fn)\n",
        "  prec = tp/(tp+fp)\n",
        "  f1 = 2*tp/(2*tp+fn+fp)\n",
        "  print(f'Class: {c}, {tp}, {acc:2.2f}')"
      ],
      "execution_count": 0,
      "outputs": [
        {
          "output_type": "stream",
          "text": [
            "[[21  0  0]\n",
            " [ 0  9  1]\n",
            " [ 0  0 14]]\n",
            "Class: 0, 21, 1.00\n",
            "Class: 1, 9, 0.90\n",
            "Class: 2, 14, 0.93\n"
          ],
          "name": "stdout"
        }
      ]
    }
  ]
}