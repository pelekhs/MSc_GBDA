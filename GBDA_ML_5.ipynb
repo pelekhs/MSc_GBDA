{
  "nbformat": 4,
  "nbformat_minor": 0,
  "metadata": {
    "colab": {
      "name": "GBDA_ML_1.ipynb",
      "version": "0.3.2",
      "provenance": []
    },
    "kernelspec": {
      "name": "python3",
      "display_name": "Python 3"
    }
  },
  "cells": [
    {
      "metadata": {
        "id": "E8I_YND8m-tW",
        "colab_type": "text"
      },
      "cell_type": "markdown",
      "source": [
        "# Άσκηση 5 : Επιβλεπόμενη Ταξινόμηση με Νευρωνικά Δίκτυα \n",
        "\n",
        "## Εισαγωγή στο Keras\n"
      ]
    },
    {
      "metadata": {
        "id": "bUnT6nwMm4_1",
        "colab_type": "text"
      },
      "cell_type": "markdown",
      "source": [
        "Σκοπός αυτής της άσκησης είναι η επιβλεπόμενη ταξινόμηση στο [Iris Dataset](http://archive.ics.uci.edu/ml/datasets/Iris). Μέσω αυτής θα έρθετε σε μία πρώτη επαφή με το Keras και θα εξοικειωθείτε με βασικές αρχές της Μηχανικής Μάθησης."
      ]
    },
    {
      "metadata": {
        "id": "I-ldobRWnPhF",
        "colab_type": "text"
      },
      "cell_type": "markdown",
      "source": [
        "### Βήμα 1 : Εισαγωγή δεδομένων"
      ]
    },
    {
      "metadata": {
        "id": "urDp_LX0obAj",
        "colab_type": "code",
        "colab": {}
      },
      "cell_type": "code",
      "source": [
        "import urllib.request\n",
        "iris_data_url = 'http://archive.ics.uci.edu/ml/machine-learning-databases/iris/iris.data'\n",
        "urllib.request.urlretrieve(iris_data_url, 'iris.data')\n",
        "\n",
        "data = pd.read_csv('iris.data', header=None)\n",
        "data.columns = ['sepal_length', 'sepal_width', 'petal_length', 'petal_width', 'label']\n",
        "print(data)"
      ],
      "execution_count": 0,
      "outputs": []
    },
    {
      "metadata": {
        "id": "c-IYijzco4jS",
        "colab_type": "text"
      },
      "cell_type": "markdown",
      "source": [
        "Εναλλακτικά, μπορείτε να κατεβάσετε τοπικά το σετ δεδομένων από τον παραπάνω σύνδεσμο."
      ]
    },
    {
      "metadata": {
        "id": "s-_mJdv1ocT3",
        "colab_type": "text"
      },
      "cell_type": "markdown",
      "source": [
        "### Βήμα 2 : Οπτικοποίηση δεδομένων\n",
        "Δημιουργείστε scatterplots (με τη βοήθεια της βιβλιοθήκης matplotlib) των δεδομένων."
      ]
    },
    {
      "metadata": {
        "id": "8O-PPwcRoydY",
        "colab_type": "code",
        "colab": {}
      },
      "cell_type": "code",
      "source": [
        "print('Replace me with code!')"
      ],
      "execution_count": 0,
      "outputs": []
    },
    {
      "metadata": {
        "id": "ZTOlhRKmpHam",
        "colab_type": "text"
      },
      "cell_type": "markdown",
      "source": [
        "### Βήμα 3 : Προεπεξεργασία δεδομένων"
      ]
    },
    {
      "metadata": {
        "id": "ZP86wgsEpjAw",
        "colab_type": "text"
      },
      "cell_type": "markdown",
      "source": [
        "#### 3.1.  Χωρίστε τα δεδομένα σε σύνολα εκπαίδευσης και αξιολόγησης\n"
      ]
    },
    {
      "metadata": {
        "id": "ilRQjijApbfu",
        "colab_type": "code",
        "colab": {}
      },
      "cell_type": "code",
      "source": [
        "random_state = 2019\n",
        "print('Replace me with code!')"
      ],
      "execution_count": 0,
      "outputs": []
    },
    {
      "metadata": {
        "id": "5_Uc5CHfpSL8",
        "colab_type": "text"
      },
      "cell_type": "markdown",
      "source": [
        "#### 3.2.  Μετατρέψτε τα labels σε διανύσματα κατηγοριών (categorical) με τη χρήση one-hot encoding"
      ]
    },
    {
      "metadata": {
        "id": "aV0c0GpeqXKq",
        "colab_type": "code",
        "colab": {}
      },
      "cell_type": "code",
      "source": [
        "print('Replace me with code!')"
      ],
      "execution_count": 0,
      "outputs": []
    },
    {
      "metadata": {
        "id": "xeS5XPD3qZQT",
        "colab_type": "text"
      },
      "cell_type": "markdown",
      "source": [
        "#### 3.3.  Κανονικοποιήστε τα δεδομένα στο διάστημα [-1,1]"
      ]
    },
    {
      "metadata": {
        "id": "CJzvG0glqnPz",
        "colab_type": "code",
        "colab": {}
      },
      "cell_type": "code",
      "source": [
        "print('Replace me with code!')"
      ],
      "execution_count": 0,
      "outputs": []
    },
    {
      "metadata": {
        "id": "NaHKSJsSqolM",
        "colab_type": "text"
      },
      "cell_type": "markdown",
      "source": [
        "### Βήμα 4 : Δημιουργείστε το νευρωνικό δίκτυο της εκφώνησης"
      ]
    },
    {
      "metadata": {
        "id": "yDE8tL55qwc5",
        "colab_type": "code",
        "colab": {}
      },
      "cell_type": "code",
      "source": [
        "print('Replace me with code!')"
      ],
      "execution_count": 0,
      "outputs": []
    },
    {
      "metadata": {
        "id": "O6ws5jPqqxQl",
        "colab_type": "text"
      },
      "cell_type": "markdown",
      "source": [
        "### Βήμα 5 : Εκπαιδεύστε το μοντέλο"
      ]
    },
    {
      "metadata": {
        "id": "a_qGggFQq5B8",
        "colab_type": "code",
        "colab": {}
      },
      "cell_type": "code",
      "source": [
        "print('Replace me with code!')"
      ],
      "execution_count": 0,
      "outputs": []
    },
    {
      "metadata": {
        "id": "m_cnKiaBq4Dk",
        "colab_type": "text"
      },
      "cell_type": "markdown",
      "source": [
        "#### 5.1.  Εμφανίστε τα διαγράμματα \n",
        "*   **Loss vs Epoch**\n",
        "*   **Accuracy vs Epoch** \n",
        "\n",
        "\n"
      ]
    },
    {
      "metadata": {
        "id": "Ke-xFD4rrpwH",
        "colab_type": "code",
        "colab": {}
      },
      "cell_type": "code",
      "source": [
        "print('Replace me with code!')"
      ],
      "execution_count": 0,
      "outputs": []
    },
    {
      "metadata": {
        "id": "GZtgMjFBrodf",
        "colab_type": "text"
      },
      "cell_type": "markdown",
      "source": [
        "### Βήμα 6 : Αξιολογήστε το μοντέλο "
      ]
    },
    {
      "metadata": {
        "id": "YW1OZsP3rw3z",
        "colab_type": "code",
        "colab": {}
      },
      "cell_type": "code",
      "source": [
        "print('Replace me with code!')"
      ],
      "execution_count": 0,
      "outputs": []
    }
  ]
}