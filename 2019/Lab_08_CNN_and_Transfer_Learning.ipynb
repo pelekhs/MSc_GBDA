{
  "nbformat": 4,
  "nbformat_minor": 0,
  "metadata": {
    "colab": {
      "name": "Untitled3.ipynb",
      "version": "0.3.2",
      "provenance": [],
      "collapsed_sections": [],
      "toc_visible": true,
      "include_colab_link": true
    },
    "kernelspec": {
      "name": "python3",
      "display_name": "Python 3"
    }
  },
  "cells": [
    {
      "cell_type": "markdown",
      "metadata": {
        "id": "view-in-github",
        "colab_type": "text"
      },
      "source": [
        "<a href=\"https://colab.research.google.com/github/rslab-ntua/MSc_GBDA/blob/master/Lab_08_CNN_and_Transfer_Learning.ipynb\" target=\"_parent\"><img src=\"https://colab.research.google.com/assets/colab-badge.svg\" alt=\"Open In Colab\"/></a>"
      ]
    },
    {
      "cell_type": "markdown",
      "metadata": {
        "id": "dprP_YgbW2Fm",
        "colab_type": "text"
      },
      "source": [
        "## Define CNN model"
      ]
    },
    {
      "cell_type": "markdown",
      "metadata": {
        "id": "ziUrru1LbQnd",
        "colab_type": "text"
      },
      "source": [
        "## Define a CNN"
      ]
    },
    {
      "cell_type": "code",
      "metadata": {
        "id": "gjkh3F7sW06U",
        "colab_type": "code",
        "colab": {
          "base_uri": "https://localhost:8080/",
          "height": 374
        },
        "outputId": "f59e3c6b-3bfd-4792-e194-e633c5b14fa5"
      },
      "source": [
        "from tensorflow import keras\n",
        "\n",
        "model = keras.Sequential()\n",
        "model.add(keras.layers.Conv2D(32, kernel_size=(5, 5), strides=(1, 1),\n",
        "                 activation='relu',\n",
        "                 input_shape=(64, 64 ,3)))\n",
        "model.add(keras.layers.MaxPooling2D(pool_size=(2, 2), strides=(2, 2)))\n",
        "model.add(keras.layers.Conv2D(64, (5, 5), activation='relu'))\n",
        "model.add(keras.layers.MaxPooling2D(pool_size=(2, 2)))\n",
        "model.add(keras.layers.Flatten())\n",
        "model.add(keras.layers.Dense(1000, activation='relu'))\n",
        "model.add(keras.layers.Dense(10, activation='softmax'))  # 10-classes classification\n",
        "model.summary()"
      ],
      "execution_count": 18,
      "outputs": [
        {
          "output_type": "stream",
          "text": [
            "_________________________________________________________________\n",
            "Layer (type)                 Output Shape              Param #   \n",
            "=================================================================\n",
            "conv2d_4 (Conv2D)            (None, 60, 60, 32)        2432      \n",
            "_________________________________________________________________\n",
            "max_pooling2d_4 (MaxPooling2 (None, 30, 30, 32)        0         \n",
            "_________________________________________________________________\n",
            "conv2d_5 (Conv2D)            (None, 26, 26, 64)        51264     \n",
            "_________________________________________________________________\n",
            "max_pooling2d_5 (MaxPooling2 (None, 13, 13, 64)        0         \n",
            "_________________________________________________________________\n",
            "flatten_5 (Flatten)          (None, 10816)             0         \n",
            "_________________________________________________________________\n",
            "dense_4 (Dense)              (None, 1000)              10817000  \n",
            "_________________________________________________________________\n",
            "dense_5 (Dense)              (None, 10)                10010     \n",
            "=================================================================\n",
            "Total params: 10,880,706\n",
            "Trainable params: 10,880,706\n",
            "Non-trainable params: 0\n",
            "_________________________________________________________________\n"
          ],
          "name": "stdout"
        }
      ]
    },
    {
      "cell_type": "markdown",
      "metadata": {
        "id": "oYujsgidbZVY",
        "colab_type": "text"
      },
      "source": [
        "## Freeze all layers of the mode\n",
        "### Make every layer untrainable"
      ]
    },
    {
      "cell_type": "code",
      "metadata": {
        "id": "dKNXI96PbkRL",
        "colab_type": "code",
        "colab": {}
      },
      "source": [
        "for layer in model.layers:\n",
        "    layer.trainable = False"
      ],
      "execution_count": 0,
      "outputs": []
    },
    {
      "cell_type": "markdown",
      "metadata": {
        "id": "_-bcT1KVbwl-",
        "colab_type": "text"
      },
      "source": [
        "## Append layers to model"
      ]
    },
    {
      "cell_type": "code",
      "metadata": {
        "id": "8kPnVSHWcEms",
        "colab_type": "code",
        "colab": {
          "base_uri": "https://localhost:8080/",
          "height": 442
        },
        "outputId": "f94e63ba-ca90-4bc6-d9a8-e44b4334d83d"
      },
      "source": [
        "# Select the last max pool layer as input to new model\n",
        "max_pool = model.layers[-4]\n",
        "print(max_pool)\n",
        "\n",
        "# Add a flatten, a 256 dense and a 5 dens w/ softmax\n",
        "x = keras.layers.Flatten()(max_pool.output)\n",
        "x = keras.layers.Dense(256, activation='relu')(x)\n",
        "x = keras.layers.Dense(5, activation='softmax')(x)\n",
        "\n",
        "new_model = keras.Model(inputs=model.input, outputs=x)\n",
        "\n",
        "print(new_model.summary())\n"
      ],
      "execution_count": 20,
      "outputs": [
        {
          "output_type": "stream",
          "text": [
            "<tensorflow.python.keras.layers.pooling.MaxPooling2D object at 0x7f9297813898>\n",
            "_________________________________________________________________\n",
            "Layer (type)                 Output Shape              Param #   \n",
            "=================================================================\n",
            "conv2d_4_input (InputLayer)  (None, 64, 64, 3)         0         \n",
            "_________________________________________________________________\n",
            "conv2d_4 (Conv2D)            (None, 60, 60, 32)        2432      \n",
            "_________________________________________________________________\n",
            "max_pooling2d_4 (MaxPooling2 (None, 30, 30, 32)        0         \n",
            "_________________________________________________________________\n",
            "conv2d_5 (Conv2D)            (None, 26, 26, 64)        51264     \n",
            "_________________________________________________________________\n",
            "max_pooling2d_5 (MaxPooling2 (None, 13, 13, 64)        0         \n",
            "_________________________________________________________________\n",
            "flatten_6 (Flatten)          (None, 10816)             0         \n",
            "_________________________________________________________________\n",
            "dense_6 (Dense)              (None, 256)               2769152   \n",
            "_________________________________________________________________\n",
            "dense_7 (Dense)              (None, 5)                 1285      \n",
            "=================================================================\n",
            "Total params: 2,824,133\n",
            "Trainable params: 2,770,437\n",
            "Non-trainable params: 53,696\n",
            "_________________________________________________________________\n",
            "None\n"
          ],
          "name": "stdout"
        }
      ]
    }
  ]
}