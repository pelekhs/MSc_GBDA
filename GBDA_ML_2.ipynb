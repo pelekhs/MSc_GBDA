{
  "nbformat": 4,
  "nbformat_minor": 0,
  "metadata": {
    "colab": {
      "name": "Untitled1.ipynb",
      "version": "0.3.2",
      "provenance": []
    },
    "kernelspec": {
      "name": "python3",
      "display_name": "Python 3"
    }
  },
  "cells": [
    {
      "metadata": {
        "id": "eAiAedXAeNgb",
        "colab_type": "text"
      },
      "cell_type": "markdown",
      "source": [
        "# Άσκηση 6 - Επιβλεπόμενη ταξινόμηση σε τηλεπισκοπικά δεδομένα\n",
        "\n",
        "## Geospatial Big Data Analysis - NTUA 2019"
      ]
    },
    {
      "metadata": {
        "id": "xl4tWGOteIuB",
        "colab_type": "code",
        "colab": {}
      },
      "cell_type": "code",
      "source": [
        "from tensorflow import keras\n",
        "import pandas as pd\n",
        "import numpy as np\n",
        "from matplotlib import pyplot as plt\n",
        "%matplotlib inline"
      ],
      "execution_count": 0,
      "outputs": []
    },
    {
      "metadata": {
        "id": "BunFKFv2eozs",
        "colab_type": "text"
      },
      "cell_type": "markdown",
      "source": [
        "## Εισαγωγή δεδομένων"
      ]
    },
    {
      "metadata": {
        "id": "MMPfV4FPedw0",
        "colab_type": "code",
        "colab": {}
      },
      "cell_type": "code",
      "source": [
        "# Define functions to download shared file from google drive - DO NOT CHANGE\n",
        "import requests\n",
        "\n",
        "def download_file_from_google_drive(id, destination):\n",
        "    URL = \"https://docs.google.com/uc?export=download\"\n",
        "\n",
        "    session = requests.Session()\n",
        "\n",
        "    response = session.get(URL, params = { 'id' : id }, stream = True)\n",
        "    token = get_confirm_token(response)\n",
        "\n",
        "    if token:\n",
        "        params = { 'id' : id, 'confirm' : token }\n",
        "        response = session.get(URL, params = params, stream = True)\n",
        "\n",
        "    save_response_content(response, destination)    \n",
        "\n",
        "def get_confirm_token(response):\n",
        "    for key, value in response.cookies.items():\n",
        "        if key.startswith('download_warning'):\n",
        "            return value\n",
        "\n",
        "    return None\n",
        "\n",
        "def save_response_content(response, destination):\n",
        "    CHUNK_SIZE = 32768\n",
        "\n",
        "    with open(destination, \"wb\") as f:\n",
        "        for chunk in response.iter_content(CHUNK_SIZE):\n",
        "            if chunk: # filter out keep-alive new chunks\n",
        "                f.write(chunk)"
      ],
      "execution_count": 0,
      "outputs": []
    },
    {
      "metadata": {
        "id": "_ximuGzjevE4",
        "colab_type": "code",
        "colab": {
          "base_uri": "https://localhost:8080/",
          "height": 119
        },
        "outputId": "76fd6a07-a567-49f0-f223-f74d1b5f3df3"
      },
      "cell_type": "code",
      "source": [
        "# Download 'kastoria.csv' data from shared google drive link\n",
        "download_file_from_google_drive('1Po5WR1Khnk5YbMxszCl-bh5HLz_jccB_', 'kastoria.csv')\n",
        "# See downloaded file in local folder\n",
        "!ls -sh\n",
        "# Read csv. Structure 240 channels + 1 column (last) for labels\n",
        "X_l = pd.read_csv('kastoria.csv', index_col=0)\n",
        "\n",
        "# Split data and labels\n",
        "X = X_l.values[:, :-1]\n",
        "print(f'Number of data points: {X.shape[0]}, dimensionality: {X.shape[1]}')\n",
        "# Labels are zero-based (eg class 0 is class 1 on the kastoria.pdf)\n",
        "labels = X_l.values[:, -1]\n",
        "# Print selected classess\n",
        "c_sel = np.unique(labels.ravel())\n",
        "print(f'The following {len(c_sel)} classes are selected:\\n', c_sel+1)"
      ],
      "execution_count": 7,
      "outputs": [
        {
          "output_type": "stream",
          "text": [
            "total 127M\n",
            "127M kastoria.csv  4.0K sample_data\n",
            "Number of data points: 30522, dimensionality: 240\n",
            "The following 21 classes are selected:\n",
            " [ 1.  4.  5.  6.  7.  8.  9. 10. 11. 12. 14. 15. 16. 17. 18. 19. 20. 22.\n",
            " 23. 25. 26.]\n"
          ],
          "name": "stdout"
        }
      ]
    },
    {
      "metadata": {
        "id": "zMHsuJBLhEVf",
        "colab_type": "text"
      },
      "cell_type": "markdown",
      "source": [
        "## Διαμοιρασμός σε σετ εκπαίδευσης και ελέγχου"
      ]
    },
    {
      "metadata": {
        "id": "dfglj6knhKve",
        "colab_type": "code",
        "colab": {
          "base_uri": "https://localhost:8080/",
          "height": 34
        },
        "outputId": "693bee49-a02b-4bbe-a15e-157d567f11e3"
      },
      "cell_type": "code",
      "source": [
        "# Split train test\n",
        "from sklearn.model_selection import train_test_split\n",
        "X_train, X_test, labels_train, labels_test = train_test_split(X, labels, test_size=0.20, random_state=2019)  # DO NOT CHANGE random_state!"
      ],
      "execution_count": 10,
      "outputs": [
        {
          "output_type": "stream",
          "text": [
            "[ 3. 16. 25. ... 24. 24.  6.]\n"
          ],
          "name": "stdout"
        }
      ]
    },
    {
      "metadata": {
        "id": "kwHF_1PMhfkw",
        "colab_type": "text"
      },
      "cell_type": "markdown",
      "source": [
        "### Δημιουργείστε one-hot vectors. \n",
        "Συστήνεται η χρηση των APIs του Keras (όπως Lab05). \n",
        "\n",
        "---\n",
        "\n",
        "\n",
        "Tip: Θα πρέπει να αντιστοιχίσετε τις κατηγορίες του διανύσματος labels(_train/_test) από τα id των\n",
        "κατηγοριών π.χ. 1,3,4,8,12... σε ένα σύνολο αύξοντων αριθμών ξεκινώνταςαπό το 0 (0,1,2,3....)\n",
        "π.χ. αν οι κατηγορίες του labels ήταν 0,3,5,7 θα δημιουργούνταν η ακόλουθη αντιστοίχιση\n",
        "0->0\n",
        "3->1\n",
        "5->2\n",
        "7->3\n",
        "\n",
        "---\n",
        "\n",
        "Tip2: Μπορείτε να δείτε τις κατηγορίες μέσω της εντολής np.unique(labels)!\n",
        "\n"
      ]
    },
    {
      "metadata": {
        "id": "b5U5lPn2iahM",
        "colab_type": "code",
        "colab": {}
      },
      "cell_type": "code",
      "source": [
        "print('YOUR CODE HERE')"
      ],
      "execution_count": 0,
      "outputs": []
    },
    {
      "metadata": {
        "id": "gtxFU7Agi2Rq",
        "colab_type": "text"
      },
      "cell_type": "markdown",
      "source": [
        "## Σχεδιασμός + Εκπαίδευση μοντέλων\n",
        "\n",
        "\n",
        "---\n",
        "\n",
        "Δημιουργήστε τουλάχιστον 3 μοντέλα"
      ]
    },
    {
      "metadata": {
        "colab_type": "code",
        "id": "wqttuvb8jFwG",
        "colab": {}
      },
      "cell_type": "code",
      "source": [
        "print('YOUR CODE HERE')"
      ],
      "execution_count": 0,
      "outputs": []
    },
    {
      "metadata": {
        "id": "nNE_tnF1jKJ6",
        "colab_type": "text"
      },
      "cell_type": "markdown",
      "source": [
        "## Αξιολόγηση μοντέλων"
      ]
    },
    {
      "metadata": {
        "colab_type": "code",
        "id": "wfxLfU3LjIdo",
        "colab": {}
      },
      "cell_type": "code",
      "source": [
        "print('YOUR CODE HERE')"
      ],
      "execution_count": 0,
      "outputs": []
    },
    {
      "metadata": {
        "id": "pkiV8yqdjOns",
        "colab_type": "text"
      },
      "cell_type": "markdown",
      "source": [
        "## Extra: Ταξινόμηση στην εικόνα 'kastoria.tif'"
      ]
    },
    {
      "metadata": {
        "id": "9yDFF-wxjZRx",
        "colab_type": "code",
        "colab": {
          "base_uri": "https://localhost:8080/",
          "height": 51
        },
        "outputId": "786bbc26-deef-4d1a-9b6c-0d649b3e3da4"
      },
      "cell_type": "code",
      "source": [
        "import imageio\n",
        "# Download 'kastoria.tif' data from shared google drive link\n",
        "download_file_from_google_drive('1ckkhHXXWqDx7JgOWtOHGl4QwiB2dIcru', 'kastoria.tif')\n",
        "!ls -sh"
      ],
      "execution_count": 11,
      "outputs": [
        {
          "output_type": "stream",
          "text": [
            "total 4.3G\n",
            "127M kastoria.csv  4.2G kastoria.tif  4.0K sample_data\n"
          ],
          "name": "stdout"
        }
      ]
    },
    {
      "metadata": {
        "id": "hVC0VgItkQPe",
        "colab_type": "code",
        "colab": {
          "base_uri": "https://localhost:8080/",
          "height": 34
        },
        "outputId": "2c5de18f-9290-4ee7-ff21-b3d7d4451551"
      },
      "cell_type": "code",
      "source": [
        "im_cube = imageio.imread('kastoria.tif')\n",
        "print('Spectral/Temporal cube dimensions:',im_cube.shape)"
      ],
      "execution_count": 13,
      "outputs": [
        {
          "output_type": "stream",
          "text": [
            "Spectral/Temporal cube dimensions: (2017, 2281, 240)\n"
          ],
          "name": "stdout"
        }
      ]
    }
  ]
}